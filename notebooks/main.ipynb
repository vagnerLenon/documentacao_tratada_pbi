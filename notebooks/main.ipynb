{
 "cells": [
  {
   "cell_type": "code",
   "execution_count": 560,
   "metadata": {},
   "outputs": [],
   "source": [
    "from os import listdir, path\n",
    "import re\n",
    "import pandas as pd\n",
    "from datetime import datetime"
   ]
  },
  {
   "cell_type": "code",
   "execution_count": 561,
   "metadata": {},
   "outputs": [
    {
     "data": {
      "text/plain": [
       "'C:\\\\Users\\\\vagner.lenon\\\\dev\\\\python\\\\pbidoc\\\\notebooks\\\\pasta teste\\\\Devoluções.htm'"
      ]
     },
     "execution_count": 561,
     "metadata": {},
     "output_type": "execute_result"
    }
   ],
   "source": [
    "filePath = r'C:\\Users\\vagner.lenon\\dev\\python\\pbidoc\\notebooks\\pasta teste\\teste.bat'\n",
    "filePath = \"\\\\\".join(filePath.split(\"\\\\\")[:-1])\n",
    "arquivos = [f for f in listdir(filePath) if f.endswith(\".htm\") or f.endswith(\".html\")]\n",
    "arquivo = None if len(arquivos) == 0 else arquivos[0]\n",
    "arquivo = path.join(filePath, arquivo)\n",
    "arquivo"
   ]
  },
  {
   "cell_type": "code",
   "execution_count": 562,
   "metadata": {},
   "outputs": [
    {
     "data": {
      "text/plain": [
       "'C:\\\\Users\\\\vagner.lenon\\\\dev\\\\python\\\\pbidoc\\\\notebooks\\\\pasta teste'"
      ]
     },
     "execution_count": 562,
     "metadata": {},
     "output_type": "execute_result"
    }
   ],
   "source": [
    "filePath"
   ]
  },
  {
   "cell_type": "code",
   "execution_count": 563,
   "metadata": {},
   "outputs": [],
   "source": [
    "documentation = {}"
   ]
  },
  {
   "cell_type": "code",
   "execution_count": 564,
   "metadata": {},
   "outputs": [],
   "source": [
    "html = \"\"\n",
    "with open(arquivo, \"r\", encoding=\"utf-8\") as f:\n",
    "    html = f.read()\n",
    "\n",
    "# primeiramente pegamos só o que está dentro de body\n",
    "find = re.findall(r'<body[^>]*>((.|[\\n\\r])*)<\\/body>', html)\n",
    "body = ''\n",
    "\n",
    "if len(find) > 0:\n",
    "    body = re.findall(r'<body[^>]*>((.|[\\n\\r])*)<\\/body>', html)[0][0]\n",
    "\n",
    "# removida a tag de scripts\n",
    "body = re.sub(pattern=r'<script>+((.|[\\n\\r])*)+<\\/script>', string=body, repl='')\n",
    "\n",
    "body = body.replace('<th>', '<td>').replace('</th>', '</td>')"
   ]
  },
  {
   "cell_type": "markdown",
   "metadata": {},
   "source": [
    "# Informações básicas"
   ]
  },
  {
   "cell_type": "markdown",
   "metadata": {},
   "source": [
    "## Informações básicas"
   ]
  },
  {
   "cell_type": "markdown",
   "metadata": {},
   "source": [
    "### Obter o nome do arquivo"
   ]
  },
  {
   "cell_type": "code",
   "execution_count": 565,
   "metadata": {},
   "outputs": [],
   "source": [
    "temp = body.split('</h2>')[1]\n",
    "temp = temp[temp.find('File: ')+6:]\n",
    "full_file_name = temp[: temp.find(\"</\")]\n",
    "file_name = full_file_name[:full_file_name.find('.pbix')]\n",
    "\n",
    "documentation['full_file_name'] = full_file_name\n",
    "documentation['file_name'] = file_name"
   ]
  },
  {
   "cell_type": "markdown",
   "metadata": {},
   "source": [
    "### Obtendo o caminho do arquivo"
   ]
  },
  {
   "cell_type": "code",
   "execution_count": 566,
   "metadata": {},
   "outputs": [],
   "source": [
    "temp = body.split('</h2>')[2]\n",
    "temp = temp[temp.find('Path: ')+6:]\n",
    "file_path = temp[: temp.find(\"</\")]\n",
    "\n",
    "documentation['file_path'] = file_path"
   ]
  },
  {
   "cell_type": "markdown",
   "metadata": {},
   "source": [
    "# Partes"
   ]
  },
  {
   "cell_type": "code",
   "execution_count": 567,
   "metadata": {},
   "outputs": [],
   "source": [
    "parts = body.split('<hr>')"
   ]
  },
  {
   "cell_type": "markdown",
   "metadata": {},
   "source": [
    "### Tabelas"
   ]
  },
  {
   "cell_type": "code",
   "execution_count": 568,
   "metadata": {},
   "outputs": [],
   "source": [
    "partes_iniciais = body[:body.find(\"******   Model    ******\")]\n",
    "\n",
    "parts_table = [p for p in partes_iniciais.split('<hr>') if '<table' in p]\n",
    "\n",
    "initial = []\n",
    "\n",
    "for p in parts_table:    \n",
    "    find_title = re.findall(r'(<h1>|<h2>|<h3>)+<div>(.*?)<\\/div>+(<\\/h1>|<\\/h2>|<\\/h3>)', p)\n",
    "    find_table = re.search(r'<table[\\s\\S]*<\\/table>', p)\n",
    "\n",
    "    if find_title:\n",
    "        \n",
    "        if str(find_title[0][1]).startswith('Visuals in '):\n",
    "            for tab in [f'{t}</table>' for t in p.split('</table>')]:\n",
    "                find_title = re.findall(r'(<h1>|<h2>|<h3>)+<div>(.*?)<\\/div>+(<\\/h1>|<\\/h2>|<\\/h3>)', tab)\n",
    "                find_table = re.search(r'<table[\\s\\S]*<\\/table>', tab)\n",
    "\n",
    "                if find_table:\n",
    "                    title = find_title[0][1]\n",
    "                    table = find_table[0] if find_table else None\n",
    "\n",
    "                    table_df = pd.read_html(table)[0] if table else None\n",
    "\n",
    "                    if len(table_df) > 0:\n",
    "\n",
    "                        table_df.columns = table_df.iloc[0]\n",
    "                        table_df = table_df.iloc[1:].copy().reset_index(drop=True)\n",
    "                    \n",
    "                    initial.append({'title': title, 'table': table_df})\n",
    "        else:\n",
    "    \n",
    "            title = find_title[0][1]\n",
    "            table = find_table[0] if find_table else None\n",
    "\n",
    "            table_df = pd.read_html(table)[0] if table else None\n",
    "\n",
    "            if len(table_df) > 0:           \n",
    "\n",
    "                table_df.columns = table_df.iloc[0]\n",
    "                table_df = table_df.iloc[1:].copy().reset_index(drop=True)\n",
    "\n",
    "            initial.append({'title': title, 'table': table_df})"
   ]
  },
  {
   "cell_type": "code",
   "execution_count": 569,
   "metadata": {},
   "outputs": [],
   "source": [
    "def get_section_table(lista, title_key, title, table_key) -> pd.DataFrame:\n",
    "\n",
    "    temp = (\n",
    "        None\n",
    "        if [p for p in lista if p.get(title_key) == title] is None\n",
    "        else [p for p in lista if p.get(title_key) == title][0]\n",
    "    )\n",
    "\n",
    "    if temp is None:\n",
    "        return None\n",
    "\n",
    "    return temp.get(table_key)"
   ]
  },
  {
   "cell_type": "code",
   "execution_count": 570,
   "metadata": {},
   "outputs": [],
   "source": [
    "def get_multiple_tables_in(lista, title_key, table_key, prefix, new_prefix)->list:\n",
    "\n",
    "    new_list = [c for c in lista if c.get(title_key).startswith(prefix)]\n",
    "    print(len(new_list))\n",
    "\n",
    "    if len(new_list) > 0:\n",
    "        return [{title_key: f\"{new_prefix}{c.get(title_key).replace(prefix, '')[:-1]}\", table_key: c.get(table_key)} for c in new_list]\n",
    "    \n",
    "    return None"
   ]
  },
  {
   "cell_type": "code",
   "execution_count": 571,
   "metadata": {},
   "outputs": [
    {
     "name": "stdout",
     "output_type": "stream",
     "text": [
      "2\n"
     ]
    }
   ],
   "source": [
    "# Separar as partes:\n",
    "# List of pages (tabela única)\n",
    "nome = 'List of Pages:'\n",
    "\n",
    "temp = None if [p for p in initial if p.get('title') == nome] is None else [p for p in initial if p.get('title') == nome][0]\n",
    "\n",
    "documentation['page_list'] = get_section_table(initial, 'title', 'List of Pages:', 'table')\n",
    "\n",
    "# Visuals in <Page> (uma tabela por página)\n",
    "documentation['visuals_per_page'] = get_multiple_tables_in(initial, 'title', 'table', 'Visuals in ', 'Visuais em ')\n",
    "\n",
    "#List of all Columns/Fields/Measures/Expressions Used in Visuals: (única)\n",
    "documentation['columns_fields_measures_expressions'] = get_section_table(initial, 'title', 'List of all Columns/Fields/Measures/Expressions Used in Visuals:', 'table')\n",
    "\n",
    "# List of Tables Used in Visuals: (única)\n",
    "documentation['tables_used'] = get_section_table(initial, 'title', 'List of Tables Used in Visuals:', 'table')\n",
    "\n",
    "#List of Columns Not Used in Visuals: Única\n",
    "documentation['columns_not_used'] = get_section_table(initial, 'title', 'List of Columns Not Used in Visuals:', 'table')"
   ]
  },
  {
   "cell_type": "code",
   "execution_count": 572,
   "metadata": {},
   "outputs": [
    {
     "data": {
      "text/plain": [
       "['List of Pages:',\n",
       " 'Visuals in Home:',\n",
       " 'Visuals in Relatório:',\n",
       " 'List of Bookmarks:',\n",
       " 'List of all Columns/Fields/Measures/Expressions Used in Visuals:',\n",
       " 'List of Tables Used in Visuals:',\n",
       " 'List of Columns Not Used in Visuals:']"
      ]
     },
     "execution_count": 572,
     "metadata": {},
     "output_type": "execute_result"
    }
   ],
   "source": [
    "[c.get('title') for c in initial]"
   ]
  },
  {
   "cell_type": "code",
   "execution_count": 573,
   "metadata": {},
   "outputs": [],
   "source": [
    "partes_finais = body[body.find(\"******   Model    ******\"):].split('<hr>')\n",
    "model_name = partes_finais[0]\n",
    "model_name = model_name[model_name.find('Model: ')+7:]\n",
    "model_name = model_name[:model_name.find('</div>')]\n",
    "\n",
    "documentation['model_name'] = model_name"
   ]
  },
  {
   "cell_type": "code",
   "execution_count": 574,
   "metadata": {},
   "outputs": [],
   "source": [
    "parts_table = [p for p in partes_finais if '<table' in p]\n",
    "\n",
    "final_tables = []\n",
    "\n",
    "for p in parts_table:    \n",
    "    find_title = re.findall(r'(<h1>|<h2>|<h3>)+<div>(.*?)<\\/div>+(<\\/h1>|<\\/h2>|<\\/h3>)', p)\n",
    "    find_table = re.search(r'<table[\\s\\S]*<\\/table>', p)\n",
    "    \n",
    "    if find_title:\n",
    "        title = find_title[0][1]\n",
    "        table = find_table[0] if find_table else None\n",
    "\n",
    "        table_df = pd.read_html(table)[0] if table else None\n",
    "        \n",
    "        if table_df is not None:\n",
    "            if len(table_df) > 0:\n",
    "                table_df.columns = table_df.iloc[0]\n",
    "                table_df = table_df.iloc[1:].copy().reset_index(drop=True)\n",
    "\n",
    "        final_tables.append({'title': title, 'table': table_df})"
   ]
  },
  {
   "cell_type": "code",
   "execution_count": null,
   "metadata": {},
   "outputs": [],
   "source": []
  },
  {
   "cell_type": "code",
   "execution_count": 575,
   "metadata": {},
   "outputs": [],
   "source": [
    "scripts = [c for c in partes_finais if 'M (Power Query) Script' in c][0]\n",
    "scripts = scripts.split('----------------------')\n",
    "scripts[0] = scripts[0][scripts[0].find('M (Power Query) Script:</div></h2>')+34:]\n",
    "\n",
    "power_query = []\n",
    "\n",
    "for c in scripts:\n",
    "\n",
    "    base = [re.sub(r'<(?:\"[^\"]*\"[\\'\"]*|\\'[^\\']*\\'[\\'\"]*|[^\\'\">])+>', '', c).strip() for c in c.split('<br></br>') if c != '']\n",
    "\n",
    "    if len(base) < 2:\n",
    "        continue\n",
    "\n",
    "    title = base[0]\n",
    "\n",
    "    code = base[1]\n",
    "    if code == 'let':\n",
    "        code = '\\n'.join(base[1:])\n",
    "\n",
    "    power_query.append({'title': title, \"code\": code})\n",
    "    "
   ]
  },
  {
   "cell_type": "code",
   "execution_count": 576,
   "metadata": {},
   "outputs": [
    {
     "name": "stdout",
     "output_type": "stream",
     "text": [
      "3\n"
     ]
    }
   ],
   "source": [
    "# List of Tables: - única\n",
    "documentation['tables_list'] = get_section_table(final_tables, 'title', 'List of Tables:', 'table')\n",
    "\n",
    "\n",
    "# List of Measures: - única\n",
    "documentation['measures_list'] = get_section_table(final_tables, 'title', 'List of Measures:', 'table')\n",
    "\n",
    "# List of Columns for Table <table>: - Uma por tabela\n",
    "documentation['columns_in_tables'] = get_multiple_tables_in(final_tables, 'title', 'table', 'List of Columns for Table ', 'Lista de colunas na tabela ')\n",
    "\n",
    "# List of Roles:única\n",
    "documentation['roles'] = get_section_table(final_tables, 'title', 'List of Roles:', 'table')\n",
    "\n",
    "\n",
    "# Relationships: única\n",
    "documentation['relashionship'] = get_section_table(final_tables, 'title', 'Relationships:', 'table')\n",
    "\n",
    "\n",
    "documentation['power_queries'] = power_query"
   ]
  },
  {
   "cell_type": "markdown",
   "metadata": {},
   "source": [
    "# Criar o Markdown"
   ]
  },
  {
   "cell_type": "code",
   "execution_count": 577,
   "metadata": {},
   "outputs": [
    {
     "data": {
      "text/plain": [
       "'I:\\\\03.DADOPAR\\\\ADMINISTRATIVO\\\\BI\\\\VAGNER\\\\POWER BI\\\\ONLINE\\\\COMERCIAL OPERACIONAL\\\\DEVOLUCOES\\\\Devoluções.pbix'"
      ]
     },
     "execution_count": 577,
     "metadata": {},
     "output_type": "execute_result"
    }
   ],
   "source": [
    "documentation.get('file_path')"
   ]
  },
  {
   "cell_type": "code",
   "execution_count": 578,
   "metadata": {},
   "outputs": [],
   "source": [
    "def convert_to_md_table(df:pd.DataFrame)->str:\n",
    "    colunas = df.columns.tolist()\n",
    "\n",
    "    texto = f\"|{'|'.join(colunas)}|\\n\"\n",
    "    texto += f\"|{'|'.join(['---' for _ in range(len(colunas))])}|\\n\"\n",
    "\n",
    "    for col in colunas:\n",
    "        df[col] = df[col].fillna('')\n",
    "\n",
    "    for _, l in df.iterrows():\n",
    "            \n",
    "        texto += f\"|{'|'.join([str(l[c]) for c in colunas])}|\\n\"\n",
    "\n",
    "    return texto"
   ]
  },
  {
   "cell_type": "code",
   "execution_count": 579,
   "metadata": {},
   "outputs": [],
   "source": [
    "# Objeto de documentação\n",
    "documentation\n",
    "\n",
    "\n",
    "\n",
    "file = path.join(filePath, f\"{documentation.get('file_name')}.md\")\n",
    "\n",
    "with open(file, 'w', encoding=\"utf-8\") as f:\n",
    "    f.write(f\"# Documentação Power BI - {documentation.get('file_name')}\\n\")\n",
    "    f.write(f\"**Data:** *{datetime.now().strftime('%d/%m/%Y %H:%M:%S')}*\\n\\n\")\n",
    "\n",
    "    f.write(f\"**Nome do arquivo:** *{documentation.get('full_file_name')}*\\n\\n\")\n",
    "    f.write(f\"**Caminho do arquivo .pbix:** *{documentation.get('file_path')}*\\n\\n\")\n",
    "\n",
    "    f.write(f\"---\\n\\n\")\n",
    "\n",
    "    f.write(f\"## Lista de páginas:\\n\\n\")\n",
    "\n",
    "    f.write(convert_to_md_table(documentation.get('page_list')))    \n",
    "\n",
    "    f.write(f\"---\\n\\n\")\n",
    "    \n",
    "    f.write(f\"## Lista de visuais por relatório:\\n\\n\")\n",
    "\n",
    "    for v in documentation.get('visuals_per_page'):\n",
    "        f.write(f\"### {v.get('title')}:\\n\\n\")\n",
    "        f.write(convert_to_md_table(v.get('table')))\n",
    "\n",
    "    f.write(f\"---\\n\\n\")    \n",
    "    \n",
    "    f.write(f\"## Lista de todas as Colunas/Campos/Medidas/Expressões usadas nos visuais:\\n\\n\")\n",
    "\n",
    "    f.write(convert_to_md_table(documentation.get('columns_fields_measures_expressions')))\n",
    "\n",
    "    f.write(f\"---\\n\\n\")\n",
    "    \n",
    "    f.write(f\"## Lista das Tabelas usadas nos visuais:\\n\\n\")\n",
    "\n",
    "    f.write(convert_to_md_table(documentation.get('tables_used')))\n",
    "\n",
    "    f.write(f\"---\\n\\n\")\n",
    "\n",
    "    f.write(f\"## Lista das Colunas NÃO usadas nos visuais:\\n\\n\")\n",
    "\n",
    "    f.write(convert_to_md_table(documentation.get('columns_not_used')))\n",
    "\n",
    "    f.write(f\"---\\n\\n\")\n",
    "\n",
    "    f.write(f\"## Modelo:\\n\\n\")\n",
    "\n",
    "    f.write(f\"## Modelo: {documentation.get('model_name')}\\n\\n\")\n",
    "    \n",
    "    f.write(f\"---\\n\\n\")\n",
    "\n",
    "    f.write(f\"## Lista de Tabelas:\\n\\n\")\n",
    "\n",
    "    f.write(convert_to_md_table(documentation.get('tables_list')))\n",
    "\n",
    "    f.write(f\"---\\n\\n\")\n",
    "\n",
    "    f.write(f\"## Lista de Medidas:\\n\\n\")\n",
    "\n",
    "    f.write(convert_to_md_table(documentation.get('measures_list')))\n",
    "\n",
    "    f.write(f\"---\\n\\n\")\n",
    "    \n",
    "    f.write(f\"## Lista de Colunas por tabela:\\n\\n\")\n",
    "\n",
    "    for v in documentation.get('columns_in_tables'):\n",
    "        f.write(f\"### {v.get('title')}:\\n\\n\")\n",
    "        f.write(convert_to_md_table(v.get('table')))\n",
    "\n",
    "    f.write(f\"---\\n\\n\")\n",
    "\n",
    "    f.write(f\"## Lista de Funções (Roles):\\n\\n\")\n",
    "\n",
    "    f.write(convert_to_md_table(documentation.get('roles')))\n",
    "\n",
    "    f.write(f\"---\\n\\n\")\n",
    "\n",
    "    f.write(f\"## Lista de Relacionamentos:\\n\\n\")\n",
    "\n",
    "    f.write(convert_to_md_table(documentation.get('relashionship')))\n",
    "\n",
    "    f.write(f\"---\\n\\n\")\n",
    "\n",
    "    f.write(f\"## Power Query:\\n\\n\")\n",
    "\n",
    "    for v in documentation.get('power_queries'):\n",
    "        f.write(f\"### {v.get('title')}:\\n\\n\")\n",
    "        code = v.get('code').replace('\\n', '\\n>\\n>')\n",
    "        f.write(f\">{code}\\n\\n\")\n"
   ]
  },
  {
   "cell_type": "code",
   "execution_count": 580,
   "metadata": {},
   "outputs": [
    {
     "data": {
      "text/plain": [
       "{'title': 'Visuais em Home',\n",
       " 'table': 0                  Visual Type                Title                X  \\\n",
       " 0                        image                                     0   \n",
       " 1   ChicletSlicer1448559807354              'Canal'                0   \n",
       " 2   ChicletSlicer1448559807354                 'UF'              283   \n",
       " 3   ChicletSlicer1448559807354  'Tipo de devolução'              522   \n",
       " 4   ChicletSlicer1448559807354                'Ano'             1160   \n",
       " 5   ChicletSlicer1448559807354                'Mês'    1402797731569   \n",
       " 6                      textbox                       432447078746825   \n",
       " 7                   pivotTable                       597299035369775   \n",
       " 8                        shape                                     0   \n",
       " 9                 actionButton                        17213349230713   \n",
       " 10                     textbox                       172139107292956   \n",
       " 11                       shape                        17213349230713   \n",
       " 12                actionButton                       172113945578231   \n",
       " 13                     textbox                       172113945578231   \n",
       " 14                       shape                       172113945578231   \n",
       " 15                  pivotTable                       135048231511254   \n",
       " 16                  pivotTable                                     0   \n",
       " \n",
       " 0                 Y      Z            Width           Height  \\\n",
       " 0                 0   3000   17883149872989   14956816257409   \n",
       " 1   210510396975425   6000  282878916172735   89415749364945   \n",
       " 2   210510396975425   9000              239               88   \n",
       " 3   210510396975425  10000              343               88   \n",
       " 4   210510396975425  11000              243               88   \n",
       " 5   210510396975425  12000  517202268431002  871077504725898   \n",
       " 6   162574089754445  13000  105510584250635  133310753598645   \n",
       " 7   344180064308682  14000  723858520900322  720771704180064   \n",
       " 8   136105860113422      0             1920  961814744801512   \n",
       " 9     8234567925405   7000  170928626247122  574673829623945   \n",
       " 10  855946768576963   4000  170816326530612   50969387755102   \n",
       " 11    8234567925405   1000  170928626247122  574673829623945   \n",
       " 12  425170068027211   8000  170816326530612  564795918367347   \n",
       " 13  700680272108844   5000  170816326530612   50969387755102   \n",
       " 14  425170068027211   2000  170816326530612  564795918367347   \n",
       " 15  344180064308682  15000  561800643086817  720771704180064   \n",
       " 16  344180064308682  16000  583408360128617  720771704180064   \n",
       " \n",
       " 0                   Name tabOrder VisualIndex PageIndex  \n",
       " 0   7372684b749e6794e9a0                    0         0  \n",
       " 1   4e83e5b882a779576eee     3000           1         0  \n",
       " 2   37efd240112ee6b4043e     6000           2         0  \n",
       " 3   4810aa3de605120913b9     9000           3         0  \n",
       " 4   df72b1426e2ddadb19d8    10000           4         0  \n",
       " 5   345e5de08651723c35ce    11000           5         0  \n",
       " 6   79a256f0555246518ee5    12000           6         0  \n",
       " 7   53f9af3d185780c90797    13000           7         0  \n",
       " 8   c5cae3e63809eb1485d9    14000           8         0  \n",
       " 9   ac4e74c89a272f70c045     7000           9         0  \n",
       " 10  0787dcfcc690992f1775     4000          10         0  \n",
       " 11  707b11554cfe9f8555ca     1000          11         0  \n",
       " 12  e4a7332ee6c14a9d5c52     8000          12         0  \n",
       " 13  1f237578a07fb723d127     5000          13         0  \n",
       " 14  3a456f7d454ab54dbaab     2000          14         0  \n",
       " 15  c1e61bf15dd6f0f8a73b    15000          15         0  \n",
       " 16  b18aee31a9fe77f99877    16000          16         0  }"
      ]
     },
     "execution_count": 580,
     "metadata": {},
     "output_type": "execute_result"
    }
   ],
   "source": [
    "documentation.get('visuals_per_page')[0]"
   ]
  }
 ],
 "metadata": {
  "kernelspec": {
   "display_name": "Python 3.10.1 ('venv': venv)",
   "language": "python",
   "name": "python3"
  },
  "language_info": {
   "codemirror_mode": {
    "name": "ipython",
    "version": 3
   },
   "file_extension": ".py",
   "mimetype": "text/x-python",
   "name": "python",
   "nbconvert_exporter": "python",
   "pygments_lexer": "ipython3",
   "version": "3.10.1"
  },
  "orig_nbformat": 4,
  "vscode": {
   "interpreter": {
    "hash": "7fb0e0ec7a0a225823843a9f95b429efcfea4d2e5aeddd285f6d099b3c86cc09"
   }
  }
 },
 "nbformat": 4,
 "nbformat_minor": 2
}
