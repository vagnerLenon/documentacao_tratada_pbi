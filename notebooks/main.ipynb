{
 "cells": [
  {
   "cell_type": "code",
   "execution_count": 615,
   "metadata": {},
   "outputs": [],
   "source": [
    "from os import listdir, path\n",
    "import re\n",
    "import pandas as pd\n",
    "from datetime import datetime"
   ]
  },
  {
   "cell_type": "code",
   "execution_count": 616,
   "metadata": {},
   "outputs": [
    {
     "data": {
      "text/plain": [
       "'C:\\\\Users\\\\vagner.lenon\\\\dev\\\\python\\\\pbidoc\\\\notebooks\\\\pasta teste\\\\Devoluções.htm'"
      ]
     },
     "execution_count": 616,
     "metadata": {},
     "output_type": "execute_result"
    }
   ],
   "source": [
    "filePath = r'C:\\Users\\vagner.lenon\\dev\\python\\pbidoc\\notebooks\\pasta teste\\teste.bat'\n",
    "filePath = \"\\\\\".join(filePath.split(\"\\\\\")[:-1])\n",
    "arquivos = [f for f in listdir(filePath) if f.endswith(\".htm\") or f.endswith(\".html\")]\n",
    "arquivo = None if len(arquivos) == 0 else arquivos[0]\n",
    "arquivo = path.join(filePath, arquivo)\n",
    "arquivo"
   ]
  },
  {
   "cell_type": "code",
   "execution_count": 617,
   "metadata": {},
   "outputs": [
    {
     "data": {
      "text/plain": [
       "'C:\\\\Users\\\\vagner.lenon\\\\dev\\\\python\\\\pbidoc\\\\notebooks\\\\pasta teste'"
      ]
     },
     "execution_count": 617,
     "metadata": {},
     "output_type": "execute_result"
    }
   ],
   "source": [
    "filePath"
   ]
  },
  {
   "cell_type": "code",
   "execution_count": 618,
   "metadata": {},
   "outputs": [],
   "source": [
    "documentation = {}"
   ]
  },
  {
   "cell_type": "code",
   "execution_count": 619,
   "metadata": {},
   "outputs": [],
   "source": [
    "html = \"\"\n",
    "with open(arquivo, \"r\", encoding=\"utf-8\") as f:\n",
    "    html = f.read()\n",
    "\n",
    "# primeiramente pegamos só o que está dentro de body\n",
    "find = re.findall(r'<body[^>]*>((.|[\\n\\r])*)<\\/body>', html)\n",
    "body = ''\n",
    "\n",
    "if len(find) > 0:\n",
    "    body = re.findall(r'<body[^>]*>((.|[\\n\\r])*)<\\/body>', html)[0][0]\n",
    "\n",
    "# removida a tag de scripts\n",
    "body = re.sub(pattern=r'<script>+((.|[\\n\\r])*)+<\\/script>', string=body, repl='')\n",
    "\n",
    "body = body.replace('<th>', '<td>').replace('</th>', '</td>')"
   ]
  },
  {
   "cell_type": "markdown",
   "metadata": {},
   "source": [
    "# Informações básicas"
   ]
  },
  {
   "cell_type": "markdown",
   "metadata": {},
   "source": [
    "## Informações básicas"
   ]
  },
  {
   "cell_type": "markdown",
   "metadata": {},
   "source": [
    "### Obter o nome do arquivo"
   ]
  },
  {
   "cell_type": "code",
   "execution_count": 620,
   "metadata": {},
   "outputs": [],
   "source": [
    "class DataFrame:\n",
    "    def __init__(self, columns: list = None, rows: list = None):\n",
    "        self.columns = columns\n",
    "        self.rows = rows\n",
    "\n",
    "    columns = None\n",
    "    rows = None\n",
    "\n",
    "    def to_md(self, nl='') -> str:\n",
    "\n",
    "        md_text = \"\"\n",
    "        if self.columns in [None, []]:\n",
    "            return md_text\n",
    "\n",
    "        # Titulos\n",
    "        md_text += f\"|{'|'.join(self.columns)}|\\n\"\n",
    "        md_text += f\"|{'|'.join(['---' for _ in self.columns])}|\\n\"\n",
    "\n",
    "        if self.rows not in [None, []]:\n",
    "            lines = [ [DataFrame.__remove_tags(c) for c in l] for l in self.rows]\n",
    "            md_text += \"\\n\".join([f\"|{'|'.join(r)}|\" for r in lines])\n",
    "\n",
    "        return md_text + nl\n",
    "\n",
    "    def to_html(self) -> str:\n",
    "\n",
    "        md_text = \"<table>\\n\"\n",
    "        if self.columns in [None, []]:\n",
    "            return md_text\n",
    "\n",
    "        # Titulos\n",
    "        md_text += (\n",
    "            f\"<thead>\\n<tr><th>{'</th><th>'.join(self.columns)}</th></tr>\\n</thead>\\n\"\n",
    "        )\n",
    "\n",
    "        if self.rows not in [None, []]:\n",
    "            md_text += \"<tbody>\\n\"           \n",
    "\n",
    "            md_text += \"\\n\".join(\n",
    "                [f\"<tr><td>{'</td><td>'.join(r)}</td></tr>\" for r in self.rows]\n",
    "            )\n",
    "            md_text += \"\\n</tbody>\\n\"\n",
    "\n",
    "        md_text += \"</table>\"\n",
    "\n",
    "        return md_text    \n",
    "\n",
    "    @staticmethod\n",
    "    def from_html(html_table: str):\n",
    "        tabelas = DataFrame.__get_tables(html_table)\n",
    "        if tabelas is None:\n",
    "            return DataFrame()\n",
    "        else:\n",
    "            if len(tabelas) == 1:\n",
    "                tabela = tabelas[0]\n",
    "                columns, rows = DataFrame.__get_one_table(tabela)\n",
    "                return DataFrame(columns=columns, rows=rows)\n",
    "            else:\n",
    "\n",
    "                dfs = []\n",
    "\n",
    "                for t in tabelas:\n",
    "                    columns, rows = DataFrame.__get_one_table(t)\n",
    "                    df = DataFrame(columns, rows)\n",
    "                    dfs.append(df)\n",
    "\n",
    "                return dfs\n",
    "\n",
    "    @staticmethod\n",
    "    def __get_tables(html: str):\n",
    "        html = DataFrame.__remove_tabs_ans_newlines(html)\n",
    "        tables = [\n",
    "            (t[t.find(\"<table\") :] + \"</table>\")\n",
    "            .replace(\"<tr >\", \"<tr>\")\n",
    "            .replace(\"<th >\", \"<th>\")\n",
    "            .replace(\"<td >\", \"<td>\")\n",
    "            .replace(\"th>\", \"td>\")\n",
    "            for t in html.split(\"</table>\")\n",
    "        ]\n",
    "        if tables:\n",
    "            return tables[:-1]\n",
    "        return None\n",
    "\n",
    "    @staticmethod\n",
    "    def __get_one_table(html_table):\n",
    "        linhas = [l[l.find(\"<tr>\") + 4 :].replace('\\n', '') for l in html_table.split(\"</tr>\")][:-1]\n",
    "        columns = None\n",
    "        rows = None\n",
    "\n",
    "        if len(linhas) > 0:\n",
    "            columns = [\n",
    "                t.replace(\"<td>\", \"\").replace(\"</td>\", \"\")\n",
    "                for t in linhas[0].split(\"</td><td>\")\n",
    "            ]\n",
    "\n",
    "        if len(linhas) > 1:\n",
    "            rows = [\n",
    "                [\n",
    "                    DataFrame.__remove_tags(l.replace(\"<td>\", \"\").replace(\"</td>\", \"\"))\n",
    "                    for l in t.split(\"</td><td>\")\n",
    "                ]\n",
    "                for t in linhas[1:]\n",
    "            ]\n",
    "\n",
    "        return columns, rows\n",
    "\n",
    "    @staticmethod\n",
    "    def __remove_tags(text:str)->str:\n",
    "        return re.sub(r'<(?:\"[^\"]*\"[\\'\"]*|\\'[^\\']*\\'[\\'\"]*|[^\\'\">])+>', '', text)\n",
    "\n",
    "    @staticmethod\n",
    "    def __remove_tabs_ans_newlines(text:str)->str:\n",
    "        return text.replace('\\n', '').replace('\\t', '')"
   ]
  },
  {
   "cell_type": "code",
   "execution_count": 621,
   "metadata": {},
   "outputs": [],
   "source": [
    "temp = body.split('</h2>')[1]\n",
    "temp = temp[temp.find('File: ')+6:]\n",
    "full_file_name = temp[: temp.find(\"</\")]\n",
    "file_name = full_file_name[:full_file_name.find('.pbix')]\n",
    "\n",
    "documentation['full_file_name'] = full_file_name\n",
    "documentation['file_name'] = file_name"
   ]
  },
  {
   "cell_type": "markdown",
   "metadata": {},
   "source": [
    "### Obtendo o caminho do arquivo"
   ]
  },
  {
   "cell_type": "code",
   "execution_count": 622,
   "metadata": {},
   "outputs": [],
   "source": [
    "temp = body.split('</h2>')[2]\n",
    "temp = temp[temp.find('Path: ')+6:]\n",
    "file_path = temp[: temp.find(\"</\")]\n",
    "\n",
    "documentation['file_path'] = file_path"
   ]
  },
  {
   "cell_type": "markdown",
   "metadata": {},
   "source": [
    "# Partes"
   ]
  },
  {
   "cell_type": "code",
   "execution_count": 623,
   "metadata": {},
   "outputs": [],
   "source": [
    "parts = body.split('<hr>')"
   ]
  },
  {
   "cell_type": "markdown",
   "metadata": {},
   "source": [
    "### Tabelas"
   ]
  },
  {
   "cell_type": "code",
   "execution_count": 624,
   "metadata": {},
   "outputs": [],
   "source": [
    "partes_iniciais = body[:body.find(\"******   Model    ******\")]\n",
    "\n",
    "parts_table = [p for p in partes_iniciais.split('<hr>') if '<table' in p]\n",
    "\n",
    "initial = []\n",
    "\n",
    "for p in parts_table:\n",
    "\n",
    "    # Pego todos os títulos encontrados para poder agrupar algum caso necessario\n",
    "    find_title = re.findall(r'(<h1>|<h2>|<h3>)+<div>(.*?)<\\/div>+(<\\/h1>|<\\/h2>|<\\/h3>)', p)\n",
    "\n",
    "    if find_title is not None:\n",
    "\n",
    "        if str(find_title[0][1]).startswith(\"Visuals in \"):\n",
    "\n",
    "            title = 'Visuals'\n",
    "\n",
    "            visuals_in = {}\n",
    "\n",
    "            for subtab in [f\"{t}</table>\" for t in p.split(\"</table>\")]:\n",
    "                subtitle = re.findall(r'(<h1>|<h2>|<h3>)+<div>(.*?)<\\/div>+(<\\/h1>|<\\/h2>|<\\/h3>)', subtab)\n",
    "\n",
    "                if subtitle:\n",
    "                    title = subtitle[0][1]\n",
    "                    table = DataFrame.from_html(subtab)\n",
    "                    initial.append({'title': title, 'table': table})\n",
    "        else:\n",
    "            title = find_title[0][1]\n",
    "            table = DataFrame.from_html(p)\n",
    "            initial.append({'title': title, 'table': table})\n"
   ]
  },
  {
   "cell_type": "code",
   "execution_count": 626,
   "metadata": {},
   "outputs": [],
   "source": [
    "# Separar as partes:\n",
    "# List of pages (tabela única)\n",
    "nome = 'List of Pages:'\n",
    "\n",
    "temp = None if [p for p in initial if p.get('title') == nome] is None else [p for p in initial if p.get('title') == nome][0]\n",
    "\n",
    "tables = {t.get('title'): t.get('table') for t in initial}\n",
    "\n",
    "documentation['page_list'] = tables.get('List of Pages:')\n",
    "\n",
    "# Visuals in <Page> (uma tabela por página)\n",
    "documentation['visuals_per_page'] = [t for t in initial if str(t.get('title')).startswith('Visuals in')]\n",
    "\n",
    "#List of all Columns/Fields/Measures/Expressions Used in Visuals: (única)\n",
    "documentation['columns_fields_measures_expressions'] = tables.get('List of all Columns/Fields/Measures/Expressions Used in Visuals:')\n",
    "\n",
    "# List of Tables Used in Visuals: (única)\n",
    "documentation['tables_used'] = tables.get('List of Tables Used in Visuals:')\n",
    "\n",
    "#List of Columns Not Used in Visuals: Única\n",
    "documentation['columns_not_used'] = tables.get('List of Columns Not Used in Visuals:')"
   ]
  },
  {
   "cell_type": "code",
   "execution_count": 627,
   "metadata": {},
   "outputs": [],
   "source": [
    "partes_finais = body[body.find(\"******   Model    ******\"):].split('<hr>')\n",
    "model_name = partes_finais[0]\n",
    "model_name = model_name[model_name.find('Model: ')+7:]\n",
    "model_name = model_name[:model_name.find('</div>')]\n",
    "\n",
    "documentation['model_name'] = model_name"
   ]
  },
  {
   "cell_type": "code",
   "execution_count": 628,
   "metadata": {},
   "outputs": [],
   "source": [
    "parts_table = [p for p in partes_finais if '<table' in p]\n",
    "\n",
    "final_tables = []\n",
    "\n",
    "for p in parts_table:\n",
    "\n",
    "    # Pego todos os títulos encontrados para poder agrupar algum caso necessario\n",
    "    find_title = re.findall(r'(<h1>|<h2>|<h3>)+<div>(.*?)<\\/div>+(<\\/h1>|<\\/h2>|<\\/h3>)', p)\n",
    "\n",
    "    if find_title is not None:\n",
    "        title = find_title[0][1]\n",
    "        table = DataFrame.from_html(p)\n",
    "        final_tables.append({'title': title, 'table': table})\n"
   ]
  },
  {
   "cell_type": "code",
   "execution_count": 629,
   "metadata": {},
   "outputs": [],
   "source": [
    "scripts = [c for c in partes_finais if 'M (Power Query) Script' in c][0]\n",
    "scripts = scripts.split('----------------------')\n",
    "scripts[0] = scripts[0][scripts[0].find('M (Power Query) Script:</div></h2>')+34:]\n",
    "\n",
    "power_query = []\n",
    "\n",
    "for c in scripts:\n",
    "\n",
    "    base = [re.sub(r'<(?:\"[^\"]*\"[\\'\"]*|\\'[^\\']*\\'[\\'\"]*|[^\\'\">])+>', '', c).strip() for c in c.split('<br></br>') if c != '']\n",
    "\n",
    "    if len(base) < 2:\n",
    "        continue\n",
    "\n",
    "    title = base[0]\n",
    "\n",
    "    code = base[1]\n",
    "    if code == 'let':\n",
    "        code = '\\n'.join(base[1:])\n",
    "\n",
    "    power_query.append({'title': title, \"code\": code})\n",
    "    "
   ]
  },
  {
   "cell_type": "code",
   "execution_count": 630,
   "metadata": {},
   "outputs": [],
   "source": [
    "tabelas = {t.get('title'): t.get('table') for t in final_tables if not t.get('title', '').startswith('List of Columns for Table ')}\n",
    "\n",
    "list_of_table_columns = [t for t in [t for t in final_tables if t.get('title', '').startswith('List of Columns for Table ')]]\n"
   ]
  },
  {
   "cell_type": "code",
   "execution_count": 631,
   "metadata": {},
   "outputs": [],
   "source": [
    "# List of Tables: - única\n",
    "documentation['tables_list'] = tabelas.get('List of Tables:')\n",
    "\n",
    "\n",
    "# List of Measures: - única\n",
    "documentation['measures_list'] = tabelas.get('List of Measures:')\n",
    "\n",
    "# List of Columns for Table <table>: - Uma por tabela\n",
    "documentation['columns_in_tables'] = list_of_table_columns\n",
    "\n",
    "# List of Roles:única\n",
    "documentation['roles'] = tabelas.get('List of Roles:')\n",
    "\n",
    "\n",
    "# Relationships: única\n",
    "documentation['relashionship'] = tabelas.get('Relationships:')\n",
    "\n",
    "\n",
    "documentation['partitions'] = tabelas.get('Partitions:')\n",
    "\n",
    "\n",
    "documentation['power_queries'] = power_query"
   ]
  },
  {
   "cell_type": "markdown",
   "metadata": {},
   "source": [
    "# Criar o Markdown"
   ]
  },
  {
   "cell_type": "code",
   "execution_count": 632,
   "metadata": {},
   "outputs": [],
   "source": [
    "def md_title(text: str, level:int = 1, nl=''):\n",
    "    if not str(level).isnumeric():\n",
    "        level = 1\n",
    "    level = 1 if level < 1 else level\n",
    "    level = 7 if level > 7 else level\n",
    "\n",
    "    return ''.join(['#' for _ in range(level)]) + \" \" + text + nl"
   ]
  },
  {
   "cell_type": "code",
   "execution_count": 633,
   "metadata": {},
   "outputs": [],
   "source": [
    "def create_base_etl_doc(df)->str:\n",
    "\n",
    "    columns = ['Name', 'Description']\n",
    "    indexes = [0, 1]\n",
    "    tabelas = [dict(zip(columns, [c for i, c in enumerate(l) if i in indexes])) for l in df.rows]\n",
    "   \n",
    "    texto = ''\n",
    "\n",
    "    texto = '\\n\\n'.join([f\"**[`{t.get('Name')}`](dummy_link):** {t.get('Description')}\" for t in tabelas])\n",
    "    return texto + \"\\n\\n\"\n",
    "    "
   ]
  },
  {
   "cell_type": "code",
   "execution_count": 634,
   "metadata": {},
   "outputs": [],
   "source": [
    "file = path.join(filePath, f\"{documentation.get('file_name')}.md\")\n",
    "\n",
    "with open(file, 'w', encoding=\"utf-8\") as f:\n",
    "    f.write(md_title(f\"Documentação Power BI - {documentation.get('file_name')}\", nl='\\n'))\n",
    "\n",
    "    f.write(f\"**Data:** *{datetime.now().strftime('%d/%m/%Y %H:%M:%S')}*\\n\\n\")\n",
    "\n",
    "    f.write(f\"**Nome do arquivo:** *{documentation.get('full_file_name')}*\\n\\n\")\n",
    "\n",
    "    f.write(f\"**Caminho do arquivo .pbix:** *{documentation.get('file_path')}*\\n\\n\")\n",
    "\n",
    "    f.write(f\"---\\n\\n\")\n",
    "\n",
    "    f.write(md_title('Lista de páginas:', 2, '\\n\\n'))\n",
    "\n",
    "    f.write(documentation.get('page_list').to_md('\\n\\n'))\n",
    "\n",
    "    f.write(f\"---\\n\\n\")\n",
    "    \n",
    "    f.write(md_title('Lista de visuais por relatório:', 2, '\\n\\n'))\n",
    "\n",
    "    for v in documentation.get('visuals_per_page'):\n",
    "        f.write(md_title(v.get('title'), 3, '\\n\\n'))\n",
    "        f.write(v.get('table').to_md('\\n\\n'))\n",
    "        f.write(\"\\n\\n\")\n",
    "\n",
    "    f.write(f\"---\\n\\n\")    \n",
    "    \n",
    "    f.write(md_title('Lista de todas as Colunas/Campos/Medidas/Expressões usadas nos visuais:', 2, \"\\n\\n\"))\n",
    "\n",
    "    f.write(documentation.get('columns_fields_measures_expressions').to_md(\"\\n\\n\"))\n",
    "\n",
    "    f.write(f\"---\\n\\n\")\n",
    "    \n",
    "    f.write(md_title(\"Lista das Tabelas usadas nos visuais:\", 2, \"\\n\\n\"))\n",
    "\n",
    "    f.write(documentation.get('tables_used').to_md('\\n\\n'))\n",
    "\n",
    "    f.write(f\"---\\n\\n\")\n",
    "\n",
    "    f.write(md_title(\"Lista das Colunas NÃO usadas nos visuais:\", 2, \"\\n\\n\"))\n",
    "\n",
    "    f.write(documentation.get('columns_not_used').to_md('\\n\\n'))\n",
    "\n",
    "    f.write(f\"---\\n\\n\")\n",
    "\n",
    "    f.write(md_title(\"Modelo:\", 2, \"\\n\\n\"))\n",
    "\n",
    "    f.write(md_title(f\"Modelo: {documentation.get('model_name')}\", 2, \"\\n\\n\"))\n",
    "    \n",
    "    f.write(f\"---\\n\\n\")\n",
    "\n",
    "    f.write(md_title(\"Lista de Tabelas:\", 2, \"\\n\\n\"))\n",
    "\n",
    "    f.write(documentation.get('tables_list').to_md('\\n\\n'))\n",
    "\n",
    "    f.write(f\"---\\n\\n\")\n",
    "\n",
    "    f.write(md_title(\"Arquivos de ETL:\", 2, \"\\n\\n\"))\n",
    "\n",
    "    f.write(create_base_etl_doc(documentation.get('tables_list')))\n",
    "\n",
    "    f.write(f\"---\\n\\n\")\n",
    "\n",
    "    f.write(md_title(\"Lista de Medidas:\", 2, \"\\n\\n\"))    \n",
    "\n",
    "    f.write(documentation.get('measures_list').to_md('\\n\\n'))\n",
    "\n",
    "    f.write(f\"---\\n\\n\")\n",
    "    \n",
    "    f.write(md_title(\"Lista de Colunas por Tabela:\", 2, \"\\n\\n\"))\n",
    "\n",
    "    for v in documentation.get('columns_in_tables'):\n",
    "        f.write(md_title(v.get('title'), 3, \":\\n\\n\"))\n",
    "        f.write(v.get('table').to_md('\\n\\n'))\n",
    "\n",
    "    f.write(f\"---\\n\\n\")\n",
    "\n",
    "    f.write(md_title(\"Lista de Funções (Segurança):\", 2, \"\\n\\n\"))\n",
    "\n",
    "    f.write(documentation.get('roles').to_md('\\n\\n'))\n",
    "\n",
    "    f.write(f\"---\\n\\n\")\n",
    "\n",
    "    f.write(md_title(\"Lista de Relacionamentos:\", 2, \"\\n\\n\"))\n",
    "\n",
    "    f.write(documentation.get('relashionship').to_md('\\n\\n'))\n",
    "\n",
    "    f.write(f\"---\\n\\n\")\n",
    "\n",
    "    f.write(md_title(\"Lista de Partições:\", 2, \"\\n\\n\"))\n",
    "    \n",
    "    f.write(documentation.get('partitions').to_md('\\n\\n'))\n",
    "\n",
    "    f.write(f\"---\\n\\n\")\n",
    "\n",
    "    f.write(f\"## Power Query:\\n\\n\")\n",
    "\n",
    "    for v in documentation.get('power_queries'):\n",
    "        f.write(f\"### {v.get('title')}:\\n\\n\")\n",
    "        code = v.get('code').replace('\\n', '\\n>\\n>')\n",
    "        f.write(f\">{code}\\n\\n\")\n"
   ]
  },
  {
   "cell_type": "code",
   "execution_count": 635,
   "metadata": {},
   "outputs": [
    {
     "data": {
      "text/plain": [
       "'**[`DateTableTemplate_56af38da-5a48-4aa0-89f3-22215533f47c`](dummy_link):** \\n\\n**[`DEVOLUÇÕES`](dummy_link):** Desc\\n\\n**[`LocalDateTable_28d2d0b1-b25c-40ad-ab2c-69ed6e3128fe`](dummy_link):** \\n\\n**[`LocalDateTable_be866b2d-6b25-4277-8513-44a41dcb0b7d`](dummy_link):** \\n\\n**[`LocalDateTable_4bd394f7-4ccc-48a8-9889-1cec9e260048`](dummy_link):** \\n\\n**[`Medidas`](dummy_link):** \\n\\n**[`PRODUTOS`](dummy_link):** \\n\\n'"
      ]
     },
     "execution_count": 635,
     "metadata": {},
     "output_type": "execute_result"
    }
   ],
   "source": [
    "columns = ['Name', 'Description']\n",
    "indexes = [0, 1]\n",
    "tabelas = [dict(zip(columns, [c for i, c in enumerate(l) if i in indexes])) for l in documentation.get('tables_list').rows]\n",
    "\n",
    "texto = '\\n\\n'.join([f\"**[`{t.get('Name')}`](dummy_link):** {t.get('Description')}\" for t in tabelas])\n",
    "texto = texto + \"\\n\\n\"\n",
    "texto\n"
   ]
  },
  {
   "cell_type": "code",
   "execution_count": 636,
   "metadata": {},
   "outputs": [],
   "source": [
    "\n",
    "tabela = create_base_etl_doc(documentation.get('tables_list'))"
   ]
  },
  {
   "cell_type": "code",
   "execution_count": 637,
   "metadata": {},
   "outputs": [
    {
     "ename": "AttributeError",
     "evalue": "'str' object has no attribute 'get'",
     "output_type": "error",
     "traceback": [
      "\u001b[1;31m---------------------------------------------------------------------------\u001b[0m",
      "\u001b[1;31mAttributeError\u001b[0m                            Traceback (most recent call last)",
      "Cell \u001b[1;32mIn [637], line 1\u001b[0m\n\u001b[1;32m----> 1\u001b[0m \u001b[39mprint\u001b[39m(\u001b[39m'\u001b[39m\u001b[39m\\n\u001b[39;00m\u001b[39m\\n\u001b[39;00m\u001b[39m'\u001b[39m\u001b[39m.\u001b[39mjoin([\u001b[39mf\u001b[39m\u001b[39m\"\u001b[39m\u001b[39m**[`\u001b[39m\u001b[39m{\u001b[39;00mt\u001b[39m.\u001b[39mget(\u001b[39m'\u001b[39m\u001b[39mName\u001b[39m\u001b[39m'\u001b[39m)\u001b[39m}\u001b[39;00m\u001b[39m`](dummy_link):** \u001b[39m\u001b[39m{\u001b[39;00mt\u001b[39m.\u001b[39mget(\u001b[39m'\u001b[39m\u001b[39mDescription\u001b[39m\u001b[39m'\u001b[39m)\u001b[39m}\u001b[39;00m\u001b[39m\"\u001b[39m \u001b[39mfor\u001b[39;00m t \u001b[39min\u001b[39;00m tabela]))\n",
      "Cell \u001b[1;32mIn [637], line 1\u001b[0m, in \u001b[0;36m<listcomp>\u001b[1;34m(.0)\u001b[0m\n\u001b[1;32m----> 1\u001b[0m \u001b[39mprint\u001b[39m(\u001b[39m'\u001b[39m\u001b[39m\\n\u001b[39;00m\u001b[39m\\n\u001b[39;00m\u001b[39m'\u001b[39m\u001b[39m.\u001b[39mjoin([\u001b[39mf\u001b[39m\u001b[39m\"\u001b[39m\u001b[39m**[`\u001b[39m\u001b[39m{\u001b[39;00mt\u001b[39m.\u001b[39;49mget(\u001b[39m'\u001b[39m\u001b[39mName\u001b[39m\u001b[39m'\u001b[39m)\u001b[39m}\u001b[39;00m\u001b[39m`](dummy_link):** \u001b[39m\u001b[39m{\u001b[39;00mt\u001b[39m.\u001b[39mget(\u001b[39m'\u001b[39m\u001b[39mDescription\u001b[39m\u001b[39m'\u001b[39m)\u001b[39m}\u001b[39;00m\u001b[39m\"\u001b[39m \u001b[39mfor\u001b[39;00m t \u001b[39min\u001b[39;00m tabela]))\n",
      "\u001b[1;31mAttributeError\u001b[0m: 'str' object has no attribute 'get'"
     ]
    }
   ],
   "source": [
    "print('\\n\\n'.join([f\"**[`{t.get('Name')}`](dummy_link):** {t.get('Description')}\" for t in tabela]))"
   ]
  },
  {
   "cell_type": "code",
   "execution_count": null,
   "metadata": {},
   "outputs": [
    {
     "data": {
      "text/plain": [
       "[{'Name': 'DateTableTemplate_56af38da-5a48-4aa0-89f3-22215533f47c',\n",
       "  'Description': ''},\n",
       " {'Name': 'DEVOLUÇÕES', 'Description': 'Desc'},\n",
       " {'Name': 'LocalDateTable_28d2d0b1-b25c-40ad-ab2c-69ed6e3128fe',\n",
       "  'Description': ''},\n",
       " {'Name': 'LocalDateTable_be866b2d-6b25-4277-8513-44a41dcb0b7d',\n",
       "  'Description': ''},\n",
       " {'Name': 'LocalDateTable_4bd394f7-4ccc-48a8-9889-1cec9e260048',\n",
       "  'Description': ''},\n",
       " {'Name': 'Medidas', 'Description': ''},\n",
       " {'Name': 'PRODUTOS', 'Description': ''}]"
      ]
     },
     "execution_count": 542,
     "metadata": {},
     "output_type": "execute_result"
    }
   ],
   "source": [
    "[dict(zip(indexes, [l[0], l[1]]))  for l in documentation.get('tables_list').rows]"
   ]
  }
 ],
 "metadata": {
  "kernelspec": {
   "display_name": "Python 3.10.1 ('venv': venv)",
   "language": "python",
   "name": "python3"
  },
  "language_info": {
   "codemirror_mode": {
    "name": "ipython",
    "version": 3
   },
   "file_extension": ".py",
   "mimetype": "text/x-python",
   "name": "python",
   "nbconvert_exporter": "python",
   "pygments_lexer": "ipython3",
   "version": "3.10.1"
  },
  "orig_nbformat": 4,
  "vscode": {
   "interpreter": {
    "hash": "7fb0e0ec7a0a225823843a9f95b429efcfea4d2e5aeddd285f6d099b3c86cc09"
   }
  }
 },
 "nbformat": 4,
 "nbformat_minor": 2
}
